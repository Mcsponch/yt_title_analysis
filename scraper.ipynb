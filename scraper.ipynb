{
 "cells": [
  {
   "cell_type": "code",
   "execution_count": 51,
   "source": [
    "from selenium import webdriver\n",
    "from selenium.webdriver.support.ui import WebDriverWait\n",
    "from selenium.webdriver.support import expected_conditions as EC \n",
    "from selenium.webdriver.common.by import By\n",
    "from selenium.common.exceptions import TimeoutException\n",
    "\n",
    "import time\n",
    "\n",
    "import pandas as pd"
   ],
   "outputs": [],
   "metadata": {}
  },
  {
   "cell_type": "code",
   "execution_count": 53,
   "source": [
    "options = webdriver.ChromeOptions()\n",
    "options.add_argument('--incognito')\n",
    "driver = webdriver.Chrome(executable_path='/usr/bin/chromedriver', options=options)\n",
    "url = 'https://www.youtube.com/c/ElChapucero/videos'\n",
    "driver.get(url)"
   ],
   "outputs": [],
   "metadata": {}
  },
  {
   "cell_type": "markdown",
   "source": [
    "# Xpaths"
   ],
   "metadata": {}
  },
  {
   "cell_type": "code",
   "execution_count": 17,
   "source": [
    "X_CHAN_NAME = '//yt-formatted-string[@class=\"style-scope ytd-channel-name\"]'\n",
    "X_VIDEO_TITLES = '//h3[@class=\"style-scope ytd-grid-video-renderer\"]/a'"
   ],
   "outputs": [],
   "metadata": {}
  },
  {
   "cell_type": "markdown",
   "source": [
    "# Scraping"
   ],
   "metadata": {}
  },
  {
   "cell_type": "code",
   "execution_count": 15,
   "source": [
    "chan_name = driver.find_element_by_xpath(X_CHAN_NAME).text\n",
    "chan_name"
   ],
   "outputs": [
    {
     "output_type": "execute_result",
     "data": {
      "text/plain": [
       "'El Chapucero'"
      ]
     },
     "metadata": {},
     "execution_count": 15
    }
   ],
   "metadata": {}
  },
  {
   "cell_type": "code",
   "execution_count": null,
   "source": [
    "delay = 10\n",
    "video_titles_i = driver.find_elements_by_xpath(X_VIDEO_TITLES)\n",
    "WebDriverWait(driver, delay).until(EC.presence_of_element_located((By.XPATH, X_VIDEO_TITLES)))\n",
    "webdriver.ActionChains(driver).move_to_element(video_titles_i[-1]).perform()\n",
    "WebDriverWait(driver, delay).until(EC.visibility_of_element_located((By.XPATH, X_VIDEO_TITLES)))\n",
    "video_titles_f = driver.find_elements_by_xpath(X_VIDEO_TITLES)\n",
    "while len(video_titles_f) > len(video_titles_i):\n",
    "    video_titles_i = video_titles_f\n",
    "    WebDriverWait(driver, delay).until(EC.presence_of_element_located((By.XPATH, X_VIDEO_TITLES)))\n",
    "    webdriver.ActionChains(driver).move_to_element(video_titles_i[-1]).perform()\n",
    "    WebDriverWait(driver, delay).until(EC.visibility_of_element_located((By.XPATH, X_VIDEO_TITLES)))\n",
    "    video_titles_f = driver.find_elements_by_xpath(X_VIDEO_TITLES)"
   ],
   "outputs": [],
   "metadata": {}
  },
  {
   "cell_type": "code",
   "execution_count": null,
   "source": [
    "delay = 5\n",
    "video_titles_i = driver.find_elements_by_xpath(X_VIDEO_TITLES)\n",
    "  \n",
    "webdriver.ActionChains(driver).move_to_element(video_titles_i[-1]).perform()\n",
    "WebDriverWait(driver, delay).until(EC.visibility_of_all_elements_located((By.XPATH, X_VIDEO_TITLES)))\n",
    "    \n",
    "video_titles_f = driver.find_elements_by_xpath(X_VIDEO_TITLES)\n",
    "while len(video_titles_f) > len(video_titles_i):\n",
    "    print('Scrolling to load more video miniatures...')\n",
    "    video_titles_i = video_titles_f\n",
    "\n",
    "    webdriver.ActionChains(driver).move_to_element(video_titles_i[-1]).perform()\n",
    "    WebDriverWait(driver, delay).until(EC.visibility_of_all_elements_located((By.XPATH, X_VIDEO_TITLES)))\n",
    "        \n",
    "    video_titles_f = driver.find_elements_by_xpath(X_VIDEO_TITLES)\n",
    "\n",
    "print(len(video_titles_f), ' Videos found')\n",
    "titles_text = [title.get_attribute('title') for title in video_titles_f]\n",
    "driver.close()"
   ],
   "outputs": [],
   "metadata": {}
  },
  {
   "cell_type": "code",
   "execution_count": 54,
   "source": [
    "delay = 3\n",
    "video_titles_i = driver.find_elements_by_xpath(X_VIDEO_TITLES)\n",
    "  \n",
    "webdriver.ActionChains(driver).move_to_element(video_titles_i[-1]).perform()\n",
    "time.sleep(delay)\n",
    "\n",
    "video_titles_f = driver.find_elements_by_xpath(X_VIDEO_TITLES)\n",
    "while len(video_titles_f) > len(video_titles_i):\n",
    "    print('Scrolling to load more video miniatures...')\n",
    "    video_titles_i = video_titles_f\n",
    "\n",
    "    webdriver.ActionChains(driver).move_to_element(video_titles_i[-1]).perform()\n",
    "    time.sleep(delay)\n",
    "        \n",
    "    video_titles_f = driver.find_elements_by_xpath(X_VIDEO_TITLES)\n",
    "\n",
    "print(len(video_titles_f), ' Videos found')\n",
    "titles_text = [title.get_attribute('title') for title in video_titles_f]\n",
    "driver.close()"
   ],
   "outputs": [
    {
     "output_type": "stream",
     "name": "stdout",
     "text": [
      "Scrolling to load more video miniatures...\n",
      "Scrolling to load more video miniatures...\n",
      "Scrolling to load more video miniatures...\n",
      "Scrolling to load more video miniatures...\n",
      "Scrolling to load more video miniatures...\n",
      "Scrolling to load more video miniatures...\n",
      "210  Videos found\n"
     ]
    }
   ],
   "metadata": {}
  },
  {
   "cell_type": "code",
   "execution_count": 24,
   "source": [
    "titles_text = [title.get_attribute('title') for title in video_titles_f]"
   ],
   "outputs": [],
   "metadata": {}
  },
  {
   "cell_type": "code",
   "execution_count": 26,
   "source": [
    "titles_text[:2]"
   ],
   "outputs": [
    {
     "output_type": "execute_result",
     "data": {
      "text/plain": [
       "['REVIENTA AMLO A PETROLERAS EXTRANJERAS! LES ARRUINA NEGOCIO LEONINO. PEMEX SE AFIANZA. MÉXICO FELIZ',\n",
       " 'NOROÑA PIERDE LA CABEZA! QUIERE METERME A LA CÁRCEL. FABRICARÁ DELITOS EN MI CONTRA. NOTICIAS HOY']"
      ]
     },
     "metadata": {},
     "execution_count": 26
    }
   ],
   "metadata": {}
  },
  {
   "cell_type": "code",
   "execution_count": 30,
   "source": [
    "df = pd.DataFrame()"
   ],
   "outputs": [],
   "metadata": {}
  },
  {
   "cell_type": "code",
   "execution_count": 32,
   "source": [
    "df['titles'] = titles_text"
   ],
   "outputs": [],
   "metadata": {}
  },
  {
   "cell_type": "code",
   "execution_count": 34,
   "source": [
    "df['source'] = chan_name"
   ],
   "outputs": [],
   "metadata": {}
  },
  {
   "cell_type": "code",
   "execution_count": 35,
   "source": [
    "df"
   ],
   "outputs": [
    {
     "output_type": "execute_result",
     "data": {
      "text/plain": [
       "                                                titles        source\n",
       "0    REVIENTA AMLO A PETROLERAS EXTRANJERAS! LES AR...  El Chapucero\n",
       "1    NOROÑA PIERDE LA CABEZA! QUIERE METERME A LA C...  El Chapucero\n",
       "2    SAMUEL GARCÍA ENTRA EN SHOCK! LENCHO LO TRAICI...  El Chapucero\n",
       "3    FARMACÉUTICAS GASTAN MILLONES PARA ESCONDER ÉS...  El Chapucero\n",
       "4    DESPLUMAN A SALINAS PLIEGO! LANZAN MISILES SAT...  El Chapucero\n",
       "..                                                 ...           ...\n",
       "175  SE DESQUITAN CON AMLO Y ZALDIVAR! JUEZ HUNDE N...  El Chapucero\n",
       "176  LENCHO Y CIRO PIERDEN LA CABEZA! AMENAZAN CON ...  El Chapucero\n",
       "177  NO PUEDE SER! BANCO SE APROPIA A LA MALA DE TE...  El Chapucero\n",
       "178  TRONÓ SAMUEL GARCÍA! DESTAPAN CLOACA. ENCUENTR...  El Chapucero\n",
       "179  SANTIAGO EN PROBLEMAS! PANISTA DE ALTO NIVEL L...  El Chapucero\n",
       "\n",
       "[180 rows x 2 columns]"
      ],
      "text/html": [
       "<div>\n",
       "<style scoped>\n",
       "    .dataframe tbody tr th:only-of-type {\n",
       "        vertical-align: middle;\n",
       "    }\n",
       "\n",
       "    .dataframe tbody tr th {\n",
       "        vertical-align: top;\n",
       "    }\n",
       "\n",
       "    .dataframe thead th {\n",
       "        text-align: right;\n",
       "    }\n",
       "</style>\n",
       "<table border=\"1\" class=\"dataframe\">\n",
       "  <thead>\n",
       "    <tr style=\"text-align: right;\">\n",
       "      <th></th>\n",
       "      <th>titles</th>\n",
       "      <th>source</th>\n",
       "    </tr>\n",
       "  </thead>\n",
       "  <tbody>\n",
       "    <tr>\n",
       "      <th>0</th>\n",
       "      <td>REVIENTA AMLO A PETROLERAS EXTRANJERAS! LES AR...</td>\n",
       "      <td>El Chapucero</td>\n",
       "    </tr>\n",
       "    <tr>\n",
       "      <th>1</th>\n",
       "      <td>NOROÑA PIERDE LA CABEZA! QUIERE METERME A LA C...</td>\n",
       "      <td>El Chapucero</td>\n",
       "    </tr>\n",
       "    <tr>\n",
       "      <th>2</th>\n",
       "      <td>SAMUEL GARCÍA ENTRA EN SHOCK! LENCHO LO TRAICI...</td>\n",
       "      <td>El Chapucero</td>\n",
       "    </tr>\n",
       "    <tr>\n",
       "      <th>3</th>\n",
       "      <td>FARMACÉUTICAS GASTAN MILLONES PARA ESCONDER ÉS...</td>\n",
       "      <td>El Chapucero</td>\n",
       "    </tr>\n",
       "    <tr>\n",
       "      <th>4</th>\n",
       "      <td>DESPLUMAN A SALINAS PLIEGO! LANZAN MISILES SAT...</td>\n",
       "      <td>El Chapucero</td>\n",
       "    </tr>\n",
       "    <tr>\n",
       "      <th>...</th>\n",
       "      <td>...</td>\n",
       "      <td>...</td>\n",
       "    </tr>\n",
       "    <tr>\n",
       "      <th>175</th>\n",
       "      <td>SE DESQUITAN CON AMLO Y ZALDIVAR! JUEZ HUNDE N...</td>\n",
       "      <td>El Chapucero</td>\n",
       "    </tr>\n",
       "    <tr>\n",
       "      <th>176</th>\n",
       "      <td>LENCHO Y CIRO PIERDEN LA CABEZA! AMENAZAN CON ...</td>\n",
       "      <td>El Chapucero</td>\n",
       "    </tr>\n",
       "    <tr>\n",
       "      <th>177</th>\n",
       "      <td>NO PUEDE SER! BANCO SE APROPIA A LA MALA DE TE...</td>\n",
       "      <td>El Chapucero</td>\n",
       "    </tr>\n",
       "    <tr>\n",
       "      <th>178</th>\n",
       "      <td>TRONÓ SAMUEL GARCÍA! DESTAPAN CLOACA. ENCUENTR...</td>\n",
       "      <td>El Chapucero</td>\n",
       "    </tr>\n",
       "    <tr>\n",
       "      <th>179</th>\n",
       "      <td>SANTIAGO EN PROBLEMAS! PANISTA DE ALTO NIVEL L...</td>\n",
       "      <td>El Chapucero</td>\n",
       "    </tr>\n",
       "  </tbody>\n",
       "</table>\n",
       "<p>180 rows × 2 columns</p>\n",
       "</div>"
      ]
     },
     "metadata": {},
     "execution_count": 35
    }
   ],
   "metadata": {}
  },
  {
   "cell_type": "code",
   "execution_count": 39,
   "source": [
    "df.to_csv(f'{chan_name}_title_database_dirty.csv' , index=False)"
   ],
   "outputs": [],
   "metadata": {}
  },
  {
   "cell_type": "code",
   "execution_count": 40,
   "source": [
    "df_2 = pd.read_csv(f'{chan_name}_title_database_dirty.csv')"
   ],
   "outputs": [],
   "metadata": {}
  },
  {
   "cell_type": "code",
   "execution_count": 41,
   "source": [
    "df_2"
   ],
   "outputs": [
    {
     "output_type": "execute_result",
     "data": {
      "text/plain": [
       "                                                titles        source\n",
       "0    REVIENTA AMLO A PETROLERAS EXTRANJERAS! LES AR...  El Chapucero\n",
       "1    NOROÑA PIERDE LA CABEZA! QUIERE METERME A LA C...  El Chapucero\n",
       "2    SAMUEL GARCÍA ENTRA EN SHOCK! LENCHO LO TRAICI...  El Chapucero\n",
       "3    FARMACÉUTICAS GASTAN MILLONES PARA ESCONDER ÉS...  El Chapucero\n",
       "4    DESPLUMAN A SALINAS PLIEGO! LANZAN MISILES SAT...  El Chapucero\n",
       "..                                                 ...           ...\n",
       "175  SE DESQUITAN CON AMLO Y ZALDIVAR! JUEZ HUNDE N...  El Chapucero\n",
       "176  LENCHO Y CIRO PIERDEN LA CABEZA! AMENAZAN CON ...  El Chapucero\n",
       "177  NO PUEDE SER! BANCO SE APROPIA A LA MALA DE TE...  El Chapucero\n",
       "178  TRONÓ SAMUEL GARCÍA! DESTAPAN CLOACA. ENCUENTR...  El Chapucero\n",
       "179  SANTIAGO EN PROBLEMAS! PANISTA DE ALTO NIVEL L...  El Chapucero\n",
       "\n",
       "[180 rows x 2 columns]"
      ],
      "text/html": [
       "<div>\n",
       "<style scoped>\n",
       "    .dataframe tbody tr th:only-of-type {\n",
       "        vertical-align: middle;\n",
       "    }\n",
       "\n",
       "    .dataframe tbody tr th {\n",
       "        vertical-align: top;\n",
       "    }\n",
       "\n",
       "    .dataframe thead th {\n",
       "        text-align: right;\n",
       "    }\n",
       "</style>\n",
       "<table border=\"1\" class=\"dataframe\">\n",
       "  <thead>\n",
       "    <tr style=\"text-align: right;\">\n",
       "      <th></th>\n",
       "      <th>titles</th>\n",
       "      <th>source</th>\n",
       "    </tr>\n",
       "  </thead>\n",
       "  <tbody>\n",
       "    <tr>\n",
       "      <th>0</th>\n",
       "      <td>REVIENTA AMLO A PETROLERAS EXTRANJERAS! LES AR...</td>\n",
       "      <td>El Chapucero</td>\n",
       "    </tr>\n",
       "    <tr>\n",
       "      <th>1</th>\n",
       "      <td>NOROÑA PIERDE LA CABEZA! QUIERE METERME A LA C...</td>\n",
       "      <td>El Chapucero</td>\n",
       "    </tr>\n",
       "    <tr>\n",
       "      <th>2</th>\n",
       "      <td>SAMUEL GARCÍA ENTRA EN SHOCK! LENCHO LO TRAICI...</td>\n",
       "      <td>El Chapucero</td>\n",
       "    </tr>\n",
       "    <tr>\n",
       "      <th>3</th>\n",
       "      <td>FARMACÉUTICAS GASTAN MILLONES PARA ESCONDER ÉS...</td>\n",
       "      <td>El Chapucero</td>\n",
       "    </tr>\n",
       "    <tr>\n",
       "      <th>4</th>\n",
       "      <td>DESPLUMAN A SALINAS PLIEGO! LANZAN MISILES SAT...</td>\n",
       "      <td>El Chapucero</td>\n",
       "    </tr>\n",
       "    <tr>\n",
       "      <th>...</th>\n",
       "      <td>...</td>\n",
       "      <td>...</td>\n",
       "    </tr>\n",
       "    <tr>\n",
       "      <th>175</th>\n",
       "      <td>SE DESQUITAN CON AMLO Y ZALDIVAR! JUEZ HUNDE N...</td>\n",
       "      <td>El Chapucero</td>\n",
       "    </tr>\n",
       "    <tr>\n",
       "      <th>176</th>\n",
       "      <td>LENCHO Y CIRO PIERDEN LA CABEZA! AMENAZAN CON ...</td>\n",
       "      <td>El Chapucero</td>\n",
       "    </tr>\n",
       "    <tr>\n",
       "      <th>177</th>\n",
       "      <td>NO PUEDE SER! BANCO SE APROPIA A LA MALA DE TE...</td>\n",
       "      <td>El Chapucero</td>\n",
       "    </tr>\n",
       "    <tr>\n",
       "      <th>178</th>\n",
       "      <td>TRONÓ SAMUEL GARCÍA! DESTAPAN CLOACA. ENCUENTR...</td>\n",
       "      <td>El Chapucero</td>\n",
       "    </tr>\n",
       "    <tr>\n",
       "      <th>179</th>\n",
       "      <td>SANTIAGO EN PROBLEMAS! PANISTA DE ALTO NIVEL L...</td>\n",
       "      <td>El Chapucero</td>\n",
       "    </tr>\n",
       "  </tbody>\n",
       "</table>\n",
       "<p>180 rows × 2 columns</p>\n",
       "</div>"
      ]
     },
     "metadata": {},
     "execution_count": 41
    }
   ],
   "metadata": {}
  },
  {
   "cell_type": "code",
   "execution_count": null,
   "source": [],
   "outputs": [],
   "metadata": {}
  }
 ],
 "metadata": {
  "orig_nbformat": 4,
  "language_info": {
   "name": "python",
   "version": "3.9.5",
   "mimetype": "text/x-python",
   "codemirror_mode": {
    "name": "ipython",
    "version": 3
   },
   "pygments_lexer": "ipython3",
   "nbconvert_exporter": "python",
   "file_extension": ".py"
  },
  "kernelspec": {
   "name": "python3",
   "display_name": "Python 3.9.5 64-bit ('platzi_data': conda)"
  },
  "interpreter": {
   "hash": "43927769070895c8569a6b8c106b4c7a3ddecaab6226e0eb1b09ba064153d86d"
  }
 },
 "nbformat": 4,
 "nbformat_minor": 2
}